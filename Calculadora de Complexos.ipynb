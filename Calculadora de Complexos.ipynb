{
 "cells": [
  {
   "cell_type": "code",
   "execution_count": 2,
   "id": "ddc18150",
   "metadata": {},
   "outputs": [],
   "source": [
    "import sympy as sp"
   ]
  },
  {
   "cell_type": "code",
   "execution_count": 24,
   "id": "9a8281dc",
   "metadata": {},
   "outputs": [],
   "source": [
    "# Suporte para números complexos no sympy\n",
    "sp.init_printing(use_unicode=True)"
   ]
  },
  {
   "cell_type": "code",
   "execution_count": 25,
   "id": "b162d818",
   "metadata": {},
   "outputs": [],
   "source": [
    "# Define as variáveis simbólicas\n",
    "x, y = sp.symbols('x y', complex=True)"
   ]
  },
  {
   "cell_type": "code",
   "execution_count": 35,
   "id": "0e5fea24",
   "metadata": {},
   "outputs": [],
   "source": [
    "# Define a expressão\n",
    "expr = (1 - 5*sp.I)/(4 - 3*sp.I)\n",
    "#sp.I"
   ]
  },
  {
   "cell_type": "code",
   "execution_count": 36,
   "id": "739abd37",
   "metadata": {},
   "outputs": [
    {
     "name": "stdout",
     "output_type": "stream",
     "text": [
      "Expressão Original:\n",
      "(1 - 5⋅ⅈ)⋅(4 + 3⋅ⅈ)\n",
      "───────────────────\n",
      "         25        \n"
     ]
    }
   ],
   "source": [
    "# Mostra a expressão\n",
    "# OBS: Se tiver denominador com imaginário, ele racionaliza automaticamente\n",
    "print(\"Expressão Original:\")\n",
    "sp.pprint(expr)"
   ]
  },
  {
   "cell_type": "code",
   "execution_count": 38,
   "id": "e80ca28c",
   "metadata": {},
   "outputs": [
    {
     "name": "stdout",
     "output_type": "stream",
     "text": [
      "\n",
      "Resultado:\n",
      "19   17⋅ⅈ\n",
      "── - ────\n",
      "25    25 \n"
     ]
    }
   ],
   "source": [
    "# Resultado\n",
    "resultado = sp.expand(expr)\n",
    "print(\"\\nResultado:\")\n",
    "sp.pprint(resultado)"
   ]
  }
 ],
 "metadata": {
  "kernelspec": {
   "display_name": "Python 3 (ipykernel)",
   "language": "python",
   "name": "python3"
  },
  "language_info": {
   "codemirror_mode": {
    "name": "ipython",
    "version": 3
   },
   "file_extension": ".py",
   "mimetype": "text/x-python",
   "name": "python",
   "nbconvert_exporter": "python",
   "pygments_lexer": "ipython3",
   "version": "3.9.7"
  }
 },
 "nbformat": 4,
 "nbformat_minor": 5
}
