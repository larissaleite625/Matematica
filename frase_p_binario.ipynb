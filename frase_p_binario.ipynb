{
 "cells": [
  {
   "cell_type": "code",
   "execution_count": 3,
   "metadata": {},
   "outputs": [
    {
     "name": "stdout",
     "output_type": "stream",
     "text": [
      "'S' em binário é 01010011\n",
      "'u' em binário é 01110101\n",
      "'i' em binário é 01101001\n",
      "'c' em binário é 01100011\n",
      "'i' em binário é 01101001\n",
      "'d' em binário é 01100100\n",
      "'i' em binário é 01101001\n",
      "'o' em binário é 01101111\n",
      "\n",
      "A frase completa em binário é: 0101001101110101011010010110001101101001011001000110100101101111\n"
     ]
    }
   ],
   "source": [
    "def texto_para_binario(texto):\n",
    "    binario = ''\n",
    "    for caractere in texto:\n",
    "        # Converte cada caractere para o código ASCII e depois para binário\n",
    "        binario_caractere = bin(ord(caractere))[2:].zfill(8)\n",
    "        \n",
    "        # Mostra o valor binário de cada caractere\n",
    "        print(f\"'{caractere}' em binário é {binario_caractere}\")\n",
    "        \n",
    "        # Acrescenta o valor binário à string final\n",
    "        binario += binario_caractere\n",
    "    \n",
    "    return binario.strip()\n",
    "\n",
    "frase = 'Suicidio'\n",
    "frase_binaria = texto_para_binario(frase)\n",
    "print(f\"\\nA frase completa em binário é: {frase_binaria}\")\n"
   ]
  }
 ],
 "metadata": {
  "kernelspec": {
   "display_name": "base",
   "language": "python",
   "name": "python3"
  },
  "language_info": {
   "codemirror_mode": {
    "name": "ipython",
    "version": 3
   },
   "file_extension": ".py",
   "mimetype": "text/x-python",
   "name": "python",
   "nbconvert_exporter": "python",
   "pygments_lexer": "ipython3",
   "version": "3.9.7"
  }
 },
 "nbformat": 4,
 "nbformat_minor": 2
}
