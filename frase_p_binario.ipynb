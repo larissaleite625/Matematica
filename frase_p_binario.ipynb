{
 "cells": [
  {
   "cell_type": "code",
   "execution_count": 1,
   "metadata": {},
   "outputs": [
    {
     "name": "stdout",
     "output_type": "stream",
     "text": [
      "'R' em binário é 01010010\n",
      "'a' em binário é 01100001\n",
      "'c' em binário é 01100011\n",
      "'i' em binário é 01101001\n",
      "'o' em binário é 01101111\n",
      "'n' em binário é 01101110\n",
      "'a' em binário é 01100001\n",
      "'i' em binário é 01101001\n",
      "'s' em binário é 01110011\n",
      "' ' em binário é 00100000\n",
      "'M' em binário é 01001101\n",
      "'C' em binário é 01000011\n",
      "\n",
      "A frase completa em binário é: 010100100110000101100011011010010110111101101110011000010110100101110011001000000100110101000011\n"
     ]
    }
   ],
   "source": [
    "def texto_para_binario(texto):\n",
    "    binario = ''\n",
    "    for caractere in texto:\n",
    "        # Converte cada caractere para o código ASCII e depois para binário\n",
    "        binario_caractere = bin(ord(caractere))[2:].zfill(8)\n",
    "        \n",
    "        # Mostra o valor binário de cada caractere\n",
    "        print(f\"'{caractere}' em binário é {binario_caractere}\")\n",
    "        \n",
    "        # Acrescenta o valor binário à string final\n",
    "        binario += binario_caractere\n",
    "    \n",
    "    return binario.strip()\n",
    "\n",
    "frase = 'Racionais MC'\n",
    "frase_binaria = texto_para_binario(frase)\n",
    "print(f\"\\nA frase completa em binário é: {frase_binaria}\")\n"
   ]
  }
 ],
 "metadata": {
  "kernelspec": {
   "display_name": "base",
   "language": "python",
   "name": "python3"
  },
  "language_info": {
   "codemirror_mode": {
    "name": "ipython",
    "version": 3
   },
   "file_extension": ".py",
   "mimetype": "text/x-python",
   "name": "python",
   "nbconvert_exporter": "python",
   "pygments_lexer": "ipython3",
   "version": "3.9.7"
  }
 },
 "nbformat": 4,
 "nbformat_minor": 2
}
